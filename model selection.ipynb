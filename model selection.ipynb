{
 "cells": [
  {
   "cell_type": "code",
   "execution_count": 1,
   "metadata": {},
   "outputs": [
    {
     "data": {
      "text/plain": [
       "<module 'utils' from '/Users/jzhen3/Desktop/Mini_DIVA/utils.py'>"
      ]
     },
     "execution_count": 1,
     "metadata": {},
     "output_type": "execute_result"
    }
   ],
   "source": [
    "from utils import *\n",
    "import importlib\n",
    "importlib.reload(sys.modules['utils'])\n"
   ]
  },
  {
   "cell_type": "code",
   "execution_count": 2,
   "metadata": {},
   "outputs": [],
   "source": [
    "data, X, y, Xinds, yinds = read_dataset(dataset=\"fradulent_transactions\")#input the dataset\n",
    "impute_fraction = 0.2\n",
    "random_state = 42\n",
    "# thres = int(len(X)*0.75)\n",
    "num_vars, cat_vars = get_num_cat_vars(X)\n"
   ]
  },
  {
   "cell_type": "code",
   "execution_count": 3,
   "metadata": {},
   "outputs": [
    {
     "data": {
      "text/html": [
       "<div>\n",
       "<style scoped>\n",
       "    .dataframe tbody tr th:only-of-type {\n",
       "        vertical-align: middle;\n",
       "    }\n",
       "\n",
       "    .dataframe tbody tr th {\n",
       "        vertical-align: top;\n",
       "    }\n",
       "\n",
       "    .dataframe thead th {\n",
       "        text-align: right;\n",
       "    }\n",
       "</style>\n",
       "<table border=\"1\" class=\"dataframe\">\n",
       "  <thead>\n",
       "    <tr style=\"text-align: right;\">\n",
       "      <th></th>\n",
       "      <th>TX_AMOUNT</th>\n",
       "      <th>TX_TIME_SECONDS</th>\n",
       "      <th>TX_TIME_DAYS</th>\n",
       "      <th>TX_FRAUD</th>\n",
       "    </tr>\n",
       "  </thead>\n",
       "  <tbody>\n",
       "    <tr>\n",
       "      <th>0</th>\n",
       "      <td>623.71</td>\n",
       "      <td>9272650</td>\n",
       "      <td>107</td>\n",
       "      <td>0</td>\n",
       "    </tr>\n",
       "    <tr>\n",
       "      <th>1</th>\n",
       "      <td>1478.04</td>\n",
       "      <td>14202612</td>\n",
       "      <td>164</td>\n",
       "      <td>1</td>\n",
       "    </tr>\n",
       "    <tr>\n",
       "      <th>2</th>\n",
       "      <td>510.91</td>\n",
       "      <td>15071963</td>\n",
       "      <td>174</td>\n",
       "      <td>0</td>\n",
       "    </tr>\n",
       "    <tr>\n",
       "      <th>3</th>\n",
       "      <td>426.10</td>\n",
       "      <td>5065768</td>\n",
       "      <td>58</td>\n",
       "      <td>0</td>\n",
       "    </tr>\n",
       "    <tr>\n",
       "      <th>4</th>\n",
       "      <td>1622.20</td>\n",
       "      <td>13071312</td>\n",
       "      <td>151</td>\n",
       "      <td>1</td>\n",
       "    </tr>\n",
       "    <tr>\n",
       "      <th>...</th>\n",
       "      <td>...</td>\n",
       "      <td>...</td>\n",
       "      <td>...</td>\n",
       "      <td>...</td>\n",
       "    </tr>\n",
       "    <tr>\n",
       "      <th>9104</th>\n",
       "      <td>1178.53</td>\n",
       "      <td>5995564</td>\n",
       "      <td>69</td>\n",
       "      <td>1</td>\n",
       "    </tr>\n",
       "    <tr>\n",
       "      <th>9105</th>\n",
       "      <td>1150.08</td>\n",
       "      <td>209871</td>\n",
       "      <td>2</td>\n",
       "      <td>1</td>\n",
       "    </tr>\n",
       "    <tr>\n",
       "      <th>9106</th>\n",
       "      <td>171.84</td>\n",
       "      <td>13697079</td>\n",
       "      <td>158</td>\n",
       "      <td>0</td>\n",
       "    </tr>\n",
       "    <tr>\n",
       "      <th>9107</th>\n",
       "      <td>408.33</td>\n",
       "      <td>2990685</td>\n",
       "      <td>34</td>\n",
       "      <td>0</td>\n",
       "    </tr>\n",
       "    <tr>\n",
       "      <th>9108</th>\n",
       "      <td>142.05</td>\n",
       "      <td>5637881</td>\n",
       "      <td>65</td>\n",
       "      <td>0</td>\n",
       "    </tr>\n",
       "  </tbody>\n",
       "</table>\n",
       "<p>9109 rows × 4 columns</p>\n",
       "</div>"
      ],
      "text/plain": [
       "      TX_AMOUNT  TX_TIME_SECONDS  TX_TIME_DAYS  TX_FRAUD\n",
       "0        623.71          9272650           107         0\n",
       "1       1478.04         14202612           164         1\n",
       "2        510.91         15071963           174         0\n",
       "3        426.10          5065768            58         0\n",
       "4       1622.20         13071312           151         1\n",
       "...         ...              ...           ...       ...\n",
       "9104    1178.53          5995564            69         1\n",
       "9105    1150.08           209871             2         1\n",
       "9106     171.84         13697079           158         0\n",
       "9107     408.33          2990685            34         0\n",
       "9108     142.05          5637881            65         0\n",
       "\n",
       "[9109 rows x 4 columns]"
      ]
     },
     "execution_count": 3,
     "metadata": {},
     "output_type": "execute_result"
    }
   ],
   "source": [
    "data"
   ]
  },
  {
   "cell_type": "code",
   "execution_count": 5,
   "metadata": {},
   "outputs": [
    {
     "data": {
      "text/html": [
       "<div>\n",
       "<style scoped>\n",
       "    .dataframe tbody tr th:only-of-type {\n",
       "        vertical-align: middle;\n",
       "    }\n",
       "\n",
       "    .dataframe tbody tr th {\n",
       "        vertical-align: top;\n",
       "    }\n",
       "\n",
       "    .dataframe thead th {\n",
       "        text-align: right;\n",
       "    }\n",
       "</style>\n",
       "<table border=\"1\" class=\"dataframe\">\n",
       "  <thead>\n",
       "    <tr style=\"text-align: right;\">\n",
       "      <th></th>\n",
       "      <th>TX_AMOUNT</th>\n",
       "      <th>TX_TIME_SECONDS</th>\n",
       "      <th>TX_TIME_DAYS</th>\n",
       "    </tr>\n",
       "  </thead>\n",
       "  <tbody>\n",
       "    <tr>\n",
       "      <th>0</th>\n",
       "      <td>-0.188244</td>\n",
       "      <td>0.307583</td>\n",
       "      <td>0.310951</td>\n",
       "    </tr>\n",
       "    <tr>\n",
       "      <th>1</th>\n",
       "      <td>0.075047</td>\n",
       "      <td>-0.388991</td>\n",
       "      <td>-0.390081</td>\n",
       "    </tr>\n",
       "    <tr>\n",
       "      <th>2</th>\n",
       "      <td>-0.257476</td>\n",
       "      <td>1.579298</td>\n",
       "      <td>1.580388</td>\n",
       "    </tr>\n",
       "    <tr>\n",
       "      <th>3</th>\n",
       "      <td>-0.309530</td>\n",
       "      <td>-0.614933</td>\n",
       "      <td>-0.617443</td>\n",
       "    </tr>\n",
       "    <tr>\n",
       "      <th>4</th>\n",
       "      <td>0.233183</td>\n",
       "      <td>-0.206385</td>\n",
       "      <td>-0.200613</td>\n",
       "    </tr>\n",
       "  </tbody>\n",
       "</table>\n",
       "</div>"
      ],
      "text/plain": [
       "   TX_AMOUNT  TX_TIME_SECONDS  TX_TIME_DAYS\n",
       "0  -0.188244         0.307583      0.310951\n",
       "1   0.075047        -0.388991     -0.390081\n",
       "2  -0.257476         1.579298      1.580388\n",
       "3  -0.309530        -0.614933     -0.617443\n",
       "4   0.233183        -0.206385     -0.200613"
      ]
     },
     "execution_count": 5,
     "metadata": {},
     "output_type": "execute_result"
    }
   ],
   "source": [
    "X.head()"
   ]
  },
  {
   "cell_type": "markdown",
   "metadata": {},
   "source": [
    "SELECT the best params for KNN model"
   ]
  },
  {
   "cell_type": "code",
   "execution_count": 4,
   "metadata": {},
   "outputs": [],
   "source": [
    "impute_fraction = 0.2\n",
    "random_state = 42\n",
    "impute_method = 'KNNImputer'\n",
    "error_method = \"mix\"\n",
    "n_neighbors = 7\n",
    "\n",
    "thres = int(len(X)*0.75)\n",
    "err_dic = []\n",
    "\n",
    "for w in ['uniform', 'distance']:\n",
    "    for k in range(20,40):\n",
    "        X_miss, X_miss_idx = set_fraction_missing(\n",
    "            X, fraction=impute_fraction, random_state=random_state\n",
    "        )\n",
    "        X_imp, X_le = impute(\n",
    "            X_miss,\n",
    "            X,\n",
    "            y,\n",
    "            encoding=\"one-hot\",\n",
    "            train_idx=X.index[:thres],\n",
    "            test_idx=X.index[thres:],\n",
    "            method=impute_method,\n",
    "            k_num=k,\n",
    "            weight=w\n",
    "        )\n",
    "        error = evaluate_imputation(\n",
    "            X,\n",
    "            X_imp.iloc[thres:],\n",
    "            X_le.iloc[thres:],\n",
    "            X_miss_idx.iloc[thres:],\n",
    "            error_method=error_method,\n",
    "        )\n",
    "        err_dic.append((w, k, error))"
   ]
  },
  {
   "cell_type": "code",
   "execution_count": 5,
   "metadata": {},
   "outputs": [
    {
     "name": "stdout",
     "output_type": "stream",
     "text": [
      "best_weight: distance, best_key: 39, best_value: 0.8380399199947576\n"
     ]
    }
   ],
   "source": [
    "best_weight = min(err_dic, key=lambda x: x[-1])[0]\n",
    "best_key = min(err_dic, key=lambda x: x[-1])[1]\n",
    "best_value = min(err_dic, key=lambda x: x[-1])[2]\n",
    "print((f'best_weight: {best_weight}, best_key: {best_key}, best_value: {best_value}'))"
   ]
  },
  {
   "cell_type": "markdown",
   "metadata": {},
   "source": [
    "SELECT the best CustoMICE model"
   ]
  },
  {
   "cell_type": "code",
   "execution_count": 6,
   "metadata": {},
   "outputs": [],
   "source": [
    "impute_fraction = 0.2\n",
    "random_state = 42\n",
    "impute_method = 'customMICE'\n",
    "error_method = \"mix\"\n",
    "\n",
    "iteration = range(1, 4)\n",
    "methodN = ['linear','lasso','ridge']\n",
    "methodC = ['logistic', 'random_forest']\n",
    "solver = ['sags', 'saga', 'newton-cg', 'liblinear', 'lbfgs']\n",
    "\n",
    "\n",
    "thres = int(len(X)*0.75)\n",
    "err_dic2 = []\n",
    "\n",
    "for iter in iteration:\n",
    "    for n in methodN:\n",
    "        for c in methodC:\n",
    "            if c == \"logistic\":\n",
    "                for s in solver:\n",
    "                    X_miss, X_miss_idx = set_fraction_missing(\n",
    "                    X, fraction=impute_fraction, random_state=random_state)\n",
    "                    X_imp, X_le = impute(\n",
    "                        X_miss,\n",
    "                        X,\n",
    "                        y,\n",
    "                        encoding=\"one-hot\",\n",
    "                        train_idx=X.index[:thres],\n",
    "                        test_idx=X.index[thres:],\n",
    "                        method=impute_method,\n",
    "                        k_num=k,\n",
    "                        weight=w,\n",
    "                        iteration = iter,\n",
    "                        methodN = n,\n",
    "                        methodC = c,\n",
    "                        solver = s,\n",
    "                    )\n",
    "                    error = evaluate_imputation(\n",
    "                        X,\n",
    "                        X_imp.iloc[thres:],\n",
    "                        X_le.iloc[thres:],\n",
    "                        X_miss_idx.iloc[thres:],\n",
    "                        error_method=error_method,\n",
    "                    )\n",
    "                    err_dic2.append((iter, n, c, s, error))\n",
    "            else:\n",
    "                X_miss, X_miss_idx = set_fraction_missing(\n",
    "                    X, fraction=impute_fraction, random_state=random_state)\n",
    "                X_imp, X_le = impute(\n",
    "                    X_miss,\n",
    "                    X,\n",
    "                    y,\n",
    "                    encoding=\"one-hot\",\n",
    "                    train_idx=X.index[:thres],\n",
    "                    test_idx=X.index[thres:],\n",
    "                    method=impute_method,\n",
    "                    k_num=k,\n",
    "                    weight=w,\n",
    "                    iteration = iter,\n",
    "                    methodN = n,\n",
    "                    methodC = c,\n",
    "                )\n",
    "                error = evaluate_imputation(\n",
    "                    X,\n",
    "                    X_imp.iloc[thres:],\n",
    "                    X_le.iloc[thres:],\n",
    "                    X_miss_idx.iloc[thres:],\n",
    "                    error_method=error_method,\n",
    "                )\n",
    "                err_dic2.append((iter, n, c, '', error))"
   ]
  },
  {
   "cell_type": "code",
   "execution_count": 7,
   "metadata": {},
   "outputs": [
    {
     "data": {
      "text/plain": [
       "[(1, 'linear', 'logistic', 'sags', 0.6381526684293827),\n",
       " (1, 'linear', 'logistic', 'saga', 0.6381526684293827),\n",
       " (1, 'linear', 'logistic', 'newton-cg', 0.6381526684293827),\n",
       " (1, 'linear', 'logistic', 'liblinear', 0.6381526684293827),\n",
       " (1, 'linear', 'logistic', 'lbfgs', 0.6381526684293827),\n",
       " (1, 'linear', 'random_forest', '', 0.6381526684293827),\n",
       " (1, 'lasso', 'logistic', 'sags', 0.6381526380797442),\n",
       " (1, 'lasso', 'logistic', 'saga', 0.6381526380797442),\n",
       " (1, 'lasso', 'logistic', 'newton-cg', 0.6381526380797442),\n",
       " (1, 'lasso', 'logistic', 'liblinear', 0.6381526380797442),\n",
       " (1, 'lasso', 'logistic', 'lbfgs', 0.6381526380797442),\n",
       " (1, 'lasso', 'random_forest', '', 0.6381526380797442),\n",
       " (1, 'ridge', 'logistic', 'sags', 0.6381526684189271),\n",
       " (1, 'ridge', 'logistic', 'saga', 0.6381526684189271),\n",
       " (1, 'ridge', 'logistic', 'newton-cg', 0.6381526684189271),\n",
       " (1, 'ridge', 'logistic', 'liblinear', 0.6381526684189271),\n",
       " (1, 'ridge', 'logistic', 'lbfgs', 0.6381526684189271),\n",
       " (1, 'ridge', 'random_forest', '', 0.6381526684189271),\n",
       " (2, 'linear', 'logistic', 'sags', 0.6403012347384631),\n",
       " (2, 'linear', 'logistic', 'saga', 0.6403012347384631),\n",
       " (2, 'linear', 'logistic', 'newton-cg', 0.6403012347384631),\n",
       " (2, 'linear', 'logistic', 'liblinear', 0.6403012347384631),\n",
       " (2, 'linear', 'logistic', 'lbfgs', 0.6403012347384631),\n",
       " (2, 'linear', 'random_forest', '', 0.6403012347384631),\n",
       " (2, 'lasso', 'logistic', 'sags', 0.638157459507928),\n",
       " (2, 'lasso', 'logistic', 'saga', 0.638157459507928),\n",
       " (2, 'lasso', 'logistic', 'newton-cg', 0.638157459507928),\n",
       " (2, 'lasso', 'logistic', 'liblinear', 0.638157459507928),\n",
       " (2, 'lasso', 'logistic', 'lbfgs', 0.638157459507928),\n",
       " (2, 'lasso', 'random_forest', '', 0.638157459507928),\n",
       " (2, 'ridge', 'logistic', 'sags', 0.6402936716778738),\n",
       " (2, 'ridge', 'logistic', 'saga', 0.6402936716778738),\n",
       " (2, 'ridge', 'logistic', 'newton-cg', 0.6402936716778738),\n",
       " (2, 'ridge', 'logistic', 'liblinear', 0.6402936716778738),\n",
       " (2, 'ridge', 'logistic', 'lbfgs', 0.6402936716778738),\n",
       " (2, 'ridge', 'random_forest', '', 0.6402936716778738),\n",
       " (3, 'linear', 'logistic', 'sags', 0.6382054117573164),\n",
       " (3, 'linear', 'logistic', 'saga', 0.6382054117573164),\n",
       " (3, 'linear', 'logistic', 'newton-cg', 0.6382054117573164),\n",
       " (3, 'linear', 'logistic', 'liblinear', 0.6382054117573164),\n",
       " (3, 'linear', 'logistic', 'lbfgs', 0.6382054117573164),\n",
       " (3, 'linear', 'random_forest', '', 0.6382054117573164),\n",
       " (3, 'lasso', 'logistic', 'sags', 0.6381249381833276),\n",
       " (3, 'lasso', 'logistic', 'saga', 0.6381249381833276),\n",
       " (3, 'lasso', 'logistic', 'newton-cg', 0.6381249381833276),\n",
       " (3, 'lasso', 'logistic', 'liblinear', 0.6381249381833276),\n",
       " (3, 'lasso', 'logistic', 'lbfgs', 0.6381249381833276),\n",
       " (3, 'lasso', 'random_forest', '', 0.6381249381833276),\n",
       " (3, 'ridge', 'logistic', 'sags', 0.6382045236867704),\n",
       " (3, 'ridge', 'logistic', 'saga', 0.6382045236867704),\n",
       " (3, 'ridge', 'logistic', 'newton-cg', 0.6382045236867704),\n",
       " (3, 'ridge', 'logistic', 'liblinear', 0.6382045236867704),\n",
       " (3, 'ridge', 'logistic', 'lbfgs', 0.6382045236867704),\n",
       " (3, 'ridge', 'random_forest', '', 0.6382045236867704)]"
      ]
     },
     "execution_count": 7,
     "metadata": {},
     "output_type": "execute_result"
    }
   ],
   "source": [
    "err_dic2"
   ]
  },
  {
   "cell_type": "code",
   "execution_count": 8,
   "metadata": {},
   "outputs": [
    {
     "name": "stdout",
     "output_type": "stream",
     "text": [
      "(3, 'lasso', 'logistic', 'sags', 0.6381249381833276)\n"
     ]
    }
   ],
   "source": [
    "best_iter = min(err_dic2, key=lambda x: x[-1])[0]\n",
    "best_num_model = min(err_dic2, key=lambda x: x[-1])[1]\n",
    "best_cat_model = min(err_dic2, key=lambda x: x[-1])[2]\n",
    "best_solver = min(err_dic2, key=lambda x: x[-1])[3]\n",
    "best_val = min(err_dic2, key=lambda x: x[-1])[4]\n",
    "\n",
    "print((best_iter, best_num_model, best_cat_model, best_solver,best_val))"
   ]
  },
  {
   "cell_type": "code",
   "execution_count": 9,
   "metadata": {},
   "outputs": [
    {
     "name": "stdout",
     "output_type": "stream",
     "text": [
      "best_iter: 3, best_num_model: lasso, best_cat_model: logistic, best_val: 0.6381249381833276\n"
     ]
    }
   ],
   "source": [
    "print((f'best_iter: {best_iter}, best_num_model: {best_num_model}, best_cat_model: {best_cat_model}, best_val: {best_val}'))"
   ]
  },
  {
   "cell_type": "code",
   "execution_count": 10,
   "metadata": {},
   "outputs": [],
   "source": [
    "impute_fraction = 0.2\n",
    "random_state = 42\n",
    "impute_method = 'MissForest'\n",
    "error_method = \"mix\"\n",
    "n_neighbors = 7\n",
    "\n",
    "thres = int(len(X)*0.75)\n",
    "err_dic3 = []\n",
    "ini=['median','mean']\n",
    "max_iters=range(1,6)\n",
    "for i in ini:\n",
    "    for m in max_iters:\n",
    "        X_miss, X_miss_idx = set_fraction_missing(\n",
    "            X, fraction=impute_fraction, random_state=random_state\n",
    "        )\n",
    "        X_imp, X_le = impute(\n",
    "            X_miss,\n",
    "            X,\n",
    "            y,\n",
    "            encoding=\"one-hot\",\n",
    "            train_idx=X.index[:thres],\n",
    "            test_idx=X.index[thres:],\n",
    "            method=impute_method,\n",
    "            initial_guess = i,\n",
    "            max_iter=m,\n",
    "        )\n",
    "        error = evaluate_imputation(\n",
    "            X,\n",
    "            X_imp.iloc[thres:],\n",
    "            X_le.iloc[thres:],\n",
    "            X_miss_idx.iloc[thres:],\n",
    "            error_method=error_method,\n",
    "        )\n",
    "        err_dic3.append((i, m, error))"
   ]
  },
  {
   "cell_type": "code",
   "execution_count": 11,
   "metadata": {},
   "outputs": [
    {
     "name": "stdout",
     "output_type": "stream",
     "text": [
      "('mean', 1, 0.6411547455448845)\n"
     ]
    }
   ],
   "source": [
    "best_guess = min(err_dic3, key=lambda x: x[-1])[0]\n",
    "best_max_iter = min(err_dic3, key=lambda x: x[-1])[1]\n",
    "best_vals = min(err_dic3, key=lambda x: x[-1])[2]\n",
    "\n",
    "print((best_guess, best_max_iter,best_vals))"
   ]
  },
  {
   "cell_type": "code",
   "execution_count": 12,
   "metadata": {},
   "outputs": [
    {
     "name": "stdout",
     "output_type": "stream",
     "text": [
      "best_guess: mean, best_max_iter: 1, best_vals: 0.6411547455448845\n"
     ]
    }
   ],
   "source": [
    "print((f'best_guess: {best_guess}, best_max_iter: {best_max_iter}, best_vals: {best_vals}'))"
   ]
  },
  {
   "cell_type": "code",
   "execution_count": null,
   "metadata": {},
   "outputs": [],
   "source": []
  }
 ],
 "metadata": {
  "kernelspec": {
   "display_name": "base",
   "language": "python",
   "name": "python3"
  },
  "language_info": {
   "codemirror_mode": {
    "name": "ipython",
    "version": 3
   },
   "file_extension": ".py",
   "mimetype": "text/x-python",
   "name": "python",
   "nbconvert_exporter": "python",
   "pygments_lexer": "ipython3",
   "version": "3.9.13"
  }
 },
 "nbformat": 4,
 "nbformat_minor": 2
}
